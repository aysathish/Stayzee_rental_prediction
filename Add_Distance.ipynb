{
 "cells": [
  {
   "cell_type": "code",
   "execution_count": 1,
   "metadata": {},
   "outputs": [],
   "source": [
    "import pandas as pd\n",
    "import numpy as np\n",
    "import math as m"
   ]
  },
  {
   "cell_type": "code",
   "execution_count": 26,
   "metadata": {},
   "outputs": [
    {
     "data": {
      "text/html": [
       "<div>\n",
       "<style scoped>\n",
       "    .dataframe tbody tr th:only-of-type {\n",
       "        vertical-align: middle;\n",
       "    }\n",
       "\n",
       "    .dataframe tbody tr th {\n",
       "        vertical-align: top;\n",
       "    }\n",
       "\n",
       "    .dataframe thead th {\n",
       "        text-align: right;\n",
       "    }\n",
       "</style>\n",
       "<table border=\"1\" class=\"dataframe\">\n",
       "  <thead>\n",
       "    <tr style=\"text-align: right;\">\n",
       "      <th></th>\n",
       "      <th>id</th>\n",
       "      <th>name</th>\n",
       "      <th>host_id</th>\n",
       "      <th>host_name</th>\n",
       "      <th>neighbourhood_group</th>\n",
       "      <th>neighbourhood</th>\n",
       "      <th>latitude</th>\n",
       "      <th>longitude</th>\n",
       "      <th>room_type</th>\n",
       "      <th>minimum_nights</th>\n",
       "      <th>number_of_reviews</th>\n",
       "      <th>last_review</th>\n",
       "      <th>reviews_per_month</th>\n",
       "      <th>calculated_host_listings_count</th>\n",
       "      <th>availability_365</th>\n",
       "    </tr>\n",
       "  </thead>\n",
       "  <tbody>\n",
       "    <tr>\n",
       "      <th>0</th>\n",
       "      <td>1525602</td>\n",
       "      <td>Perfect Temporary Brooklyn Home</td>\n",
       "      <td>1200603</td>\n",
       "      <td>Andrea</td>\n",
       "      <td>Brooklyn</td>\n",
       "      <td>Crown Heights</td>\n",
       "      <td>40.66751</td>\n",
       "      <td>-73.95867</td>\n",
       "      <td>Entire home/apt</td>\n",
       "      <td>2</td>\n",
       "      <td>121</td>\n",
       "      <td>2019-05-31</td>\n",
       "      <td>1.70</td>\n",
       "      <td>1</td>\n",
       "      <td>39</td>\n",
       "    </tr>\n",
       "    <tr>\n",
       "      <th>1</th>\n",
       "      <td>30430185</td>\n",
       "      <td>BIG APPLE - COMFY KING ROOM</td>\n",
       "      <td>224414117</td>\n",
       "      <td>Gabriel</td>\n",
       "      <td>Manhattan</td>\n",
       "      <td>Hell's Kitchen</td>\n",
       "      <td>40.75655</td>\n",
       "      <td>-73.99690</td>\n",
       "      <td>Private room</td>\n",
       "      <td>1</td>\n",
       "      <td>18</td>\n",
       "      <td>2019-05-05</td>\n",
       "      <td>2.49</td>\n",
       "      <td>30</td>\n",
       "      <td>364</td>\n",
       "    </tr>\n",
       "    <tr>\n",
       "      <th>2</th>\n",
       "      <td>21354525</td>\n",
       "      <td>Cozy Brooklyn Heights Getaway w/ Manhattan Access</td>\n",
       "      <td>11743513</td>\n",
       "      <td>Henry</td>\n",
       "      <td>Brooklyn</td>\n",
       "      <td>Brooklyn Heights</td>\n",
       "      <td>40.69252</td>\n",
       "      <td>-73.99121</td>\n",
       "      <td>Private room</td>\n",
       "      <td>1</td>\n",
       "      <td>87</td>\n",
       "      <td>2019-06-16</td>\n",
       "      <td>4.29</td>\n",
       "      <td>1</td>\n",
       "      <td>108</td>\n",
       "    </tr>\n",
       "    <tr>\n",
       "      <th>3</th>\n",
       "      <td>35995074</td>\n",
       "      <td>Amazing*Quiet*Sunny*Bedroom*PrivateLivingRm*Ch...</td>\n",
       "      <td>4128829</td>\n",
       "      <td>Sara</td>\n",
       "      <td>Queens</td>\n",
       "      <td>Ditmars Steinway</td>\n",
       "      <td>40.77292</td>\n",
       "      <td>-73.90101</td>\n",
       "      <td>Private room</td>\n",
       "      <td>9</td>\n",
       "      <td>0</td>\n",
       "      <td>NaN</td>\n",
       "      <td>NaN</td>\n",
       "      <td>2</td>\n",
       "      <td>365</td>\n",
       "    </tr>\n",
       "    <tr>\n",
       "      <th>4</th>\n",
       "      <td>34392081</td>\n",
       "      <td>Hello! This is a very cozy space in Williamsburg.</td>\n",
       "      <td>259630588</td>\n",
       "      <td>Alina</td>\n",
       "      <td>Brooklyn</td>\n",
       "      <td>Williamsburg</td>\n",
       "      <td>40.71863</td>\n",
       "      <td>-73.94980</td>\n",
       "      <td>Private room</td>\n",
       "      <td>1</td>\n",
       "      <td>28</td>\n",
       "      <td>2019-06-26</td>\n",
       "      <td>14.00</td>\n",
       "      <td>2</td>\n",
       "      <td>20</td>\n",
       "    </tr>\n",
       "  </tbody>\n",
       "</table>\n",
       "</div>"
      ],
      "text/plain": [
       "         id                                               name    host_id  \\\n",
       "0   1525602                    Perfect Temporary Brooklyn Home    1200603   \n",
       "1  30430185                        BIG APPLE - COMFY KING ROOM  224414117   \n",
       "2  21354525  Cozy Brooklyn Heights Getaway w/ Manhattan Access   11743513   \n",
       "3  35995074  Amazing*Quiet*Sunny*Bedroom*PrivateLivingRm*Ch...    4128829   \n",
       "4  34392081  Hello! This is a very cozy space in Williamsburg.  259630588   \n",
       "\n",
       "  host_name neighbourhood_group     neighbourhood  latitude  longitude  \\\n",
       "0    Andrea            Brooklyn     Crown Heights  40.66751  -73.95867   \n",
       "1   Gabriel           Manhattan    Hell's Kitchen  40.75655  -73.99690   \n",
       "2     Henry            Brooklyn  Brooklyn Heights  40.69252  -73.99121   \n",
       "3      Sara              Queens  Ditmars Steinway  40.77292  -73.90101   \n",
       "4     Alina            Brooklyn      Williamsburg  40.71863  -73.94980   \n",
       "\n",
       "         room_type  minimum_nights  number_of_reviews last_review  \\\n",
       "0  Entire home/apt               2                121  2019-05-31   \n",
       "1     Private room               1                 18  2019-05-05   \n",
       "2     Private room               1                 87  2019-06-16   \n",
       "3     Private room               9                  0         NaN   \n",
       "4     Private room               1                 28  2019-06-26   \n",
       "\n",
       "   reviews_per_month  calculated_host_listings_count  availability_365  \n",
       "0               1.70                               1                39  \n",
       "1               2.49                              30               364  \n",
       "2               4.29                               1               108  \n",
       "3                NaN                               2               365  \n",
       "4              14.00                               2                20  "
      ]
     },
     "execution_count": 26,
     "metadata": {},
     "output_type": "execute_result"
    }
   ],
   "source": [
    "df = pd.read_csv('Test.csv')\n",
    "df.head()"
   ]
  },
  {
   "cell_type": "code",
   "execution_count": 27,
   "metadata": {},
   "outputs": [
    {
     "data": {
      "text/plain": [
       "40.66751"
      ]
     },
     "execution_count": 27,
     "metadata": {},
     "output_type": "execute_result"
    }
   ],
   "source": [
    "x = df.loc[0,'latitude']\n",
    "x"
   ]
  },
  {
   "cell_type": "code",
   "execution_count": 28,
   "metadata": {},
   "outputs": [
    {
     "data": {
      "text/plain": [
       "-73.95867"
      ]
     },
     "execution_count": 28,
     "metadata": {},
     "output_type": "execute_result"
    }
   ],
   "source": [
    "y = df.loc[0,'longitude']\n",
    "y"
   ]
  },
  {
   "cell_type": "code",
   "execution_count": 29,
   "metadata": {},
   "outputs": [
    {
     "name": "stdout",
     "output_type": "stream",
     "text": [
      "(6, 14669)\n"
     ]
    }
   ],
   "source": [
    "lat = [40.7484,40.7061,40.7580,40.7678,40.6892,40.7060]\n",
    "long = [-73.9587,-73.9969,-73.9855,-73.9718,-74.0445,-74.0088]\n",
    "\n",
    "d = np.zeros([6,df.shape[0]])\n",
    "print(d.shape)\n",
    "for i in range (len(lat)):\n",
    "    for j in range(df.shape[0]):\n",
    "        x = df.loc[j,'latitude']\n",
    "        y = df.loc[j,'longitude']\n",
    "        dist = m.acos((m.cos(m.radians(90-x))*m.cos(m.radians(90-lat[i]))+m.sin(m.radians(90-x))*m.sin(m.radians(90-lat[i]))*m.cos(m.radians(y-long[i]))))*3958.756\n",
    "        d[i][j] = dist  "
   ]
  },
  {
   "cell_type": "code",
   "execution_count": 30,
   "metadata": {},
   "outputs": [
    {
     "data": {
      "text/html": [
       "<div>\n",
       "<style scoped>\n",
       "    .dataframe tbody tr th:only-of-type {\n",
       "        vertical-align: middle;\n",
       "    }\n",
       "\n",
       "    .dataframe tbody tr th {\n",
       "        vertical-align: top;\n",
       "    }\n",
       "\n",
       "    .dataframe thead th {\n",
       "        text-align: right;\n",
       "    }\n",
       "</style>\n",
       "<table border=\"1\" class=\"dataframe\">\n",
       "  <thead>\n",
       "    <tr style=\"text-align: right;\">\n",
       "      <th></th>\n",
       "      <th>id</th>\n",
       "      <th>name</th>\n",
       "      <th>host_id</th>\n",
       "      <th>host_name</th>\n",
       "      <th>neighbourhood_group</th>\n",
       "      <th>neighbourhood</th>\n",
       "      <th>latitude</th>\n",
       "      <th>longitude</th>\n",
       "      <th>room_type</th>\n",
       "      <th>minimum_nights</th>\n",
       "      <th>...</th>\n",
       "      <th>last_review</th>\n",
       "      <th>reviews_per_month</th>\n",
       "      <th>calculated_host_listings_count</th>\n",
       "      <th>availability_365</th>\n",
       "      <th>Empire State Buillding</th>\n",
       "      <th>Brooklyn</th>\n",
       "      <th>Times Square</th>\n",
       "      <th>Centeral Park Zoo</th>\n",
       "      <th>Statue of Liberty</th>\n",
       "      <th>Wall Street</th>\n",
       "    </tr>\n",
       "  </thead>\n",
       "  <tbody>\n",
       "    <tr>\n",
       "      <th>14664</th>\n",
       "      <td>27730191</td>\n",
       "      <td>Stylish, Artsy &amp; Comfortable Stay Near the Ocean.</td>\n",
       "      <td>32215382</td>\n",
       "      <td>Polina</td>\n",
       "      <td>Brooklyn</td>\n",
       "      <td>Sheepshead Bay</td>\n",
       "      <td>40.59446</td>\n",
       "      <td>-73.94289</td>\n",
       "      <td>Entire home/apt</td>\n",
       "      <td>2</td>\n",
       "      <td>...</td>\n",
       "      <td>2019-05-20</td>\n",
       "      <td>0.59</td>\n",
       "      <td>1</td>\n",
       "      <td>36</td>\n",
       "      <td>10.668447</td>\n",
       "      <td>8.216772</td>\n",
       "      <td>11.518011</td>\n",
       "      <td>12.072052</td>\n",
       "      <td>8.439649</td>\n",
       "      <td>8.445727</td>\n",
       "    </tr>\n",
       "    <tr>\n",
       "      <th>14665</th>\n",
       "      <td>29676417</td>\n",
       "      <td>New York Moments (Ladies Only)</td>\n",
       "      <td>223248121</td>\n",
       "      <td>Julia</td>\n",
       "      <td>Manhattan</td>\n",
       "      <td>Kips Bay</td>\n",
       "      <td>40.74319</td>\n",
       "      <td>-73.98074</td>\n",
       "      <td>Shared room</td>\n",
       "      <td>2</td>\n",
       "      <td>...</td>\n",
       "      <td>2019-01-01</td>\n",
       "      <td>0.16</td>\n",
       "      <td>1</td>\n",
       "      <td>365</td>\n",
       "      <td>1.208561</td>\n",
       "      <td>2.698760</td>\n",
       "      <td>1.053167</td>\n",
       "      <td>1.763590</td>\n",
       "      <td>5.006482</td>\n",
       "      <td>2.959996</td>\n",
       "    </tr>\n",
       "    <tr>\n",
       "      <th>14666</th>\n",
       "      <td>1813829</td>\n",
       "      <td>Enjoy Harlem Renassiance Sunny Room</td>\n",
       "      <td>9501531</td>\n",
       "      <td>Andre</td>\n",
       "      <td>Manhattan</td>\n",
       "      <td>Harlem</td>\n",
       "      <td>40.82519</td>\n",
       "      <td>-73.94530</td>\n",
       "      <td>Private room</td>\n",
       "      <td>1</td>\n",
       "      <td>...</td>\n",
       "      <td>2019-07-02</td>\n",
       "      <td>1.34</td>\n",
       "      <td>3</td>\n",
       "      <td>358</td>\n",
       "      <td>5.351786</td>\n",
       "      <td>8.660060</td>\n",
       "      <td>5.096441</td>\n",
       "      <td>4.200552</td>\n",
       "      <td>10.734986</td>\n",
       "      <td>8.880386</td>\n",
       "    </tr>\n",
       "    <tr>\n",
       "      <th>14667</th>\n",
       "      <td>25017403</td>\n",
       "      <td>Glamping Van</td>\n",
       "      <td>10407935</td>\n",
       "      <td>Meng</td>\n",
       "      <td>Manhattan</td>\n",
       "      <td>Nolita</td>\n",
       "      <td>40.72238</td>\n",
       "      <td>-73.99466</td>\n",
       "      <td>Entire home/apt</td>\n",
       "      <td>1</td>\n",
       "      <td>...</td>\n",
       "      <td>2019-05-27</td>\n",
       "      <td>1.12</td>\n",
       "      <td>8</td>\n",
       "      <td>34</td>\n",
       "      <td>2.603173</td>\n",
       "      <td>1.130940</td>\n",
       "      <td>2.507386</td>\n",
       "      <td>3.358626</td>\n",
       "      <td>3.474235</td>\n",
       "      <td>1.352491</td>\n",
       "    </tr>\n",
       "    <tr>\n",
       "      <th>14668</th>\n",
       "      <td>19057073</td>\n",
       "      <td>Bright central designer's apt - steps to train!</td>\n",
       "      <td>538008</td>\n",
       "      <td>Deren</td>\n",
       "      <td>Brooklyn</td>\n",
       "      <td>Bedford-Stuyvesant</td>\n",
       "      <td>40.68932</td>\n",
       "      <td>-73.94947</td>\n",
       "      <td>Entire home/apt</td>\n",
       "      <td>5</td>\n",
       "      <td>...</td>\n",
       "      <td>2019-06-17</td>\n",
       "      <td>0.95</td>\n",
       "      <td>1</td>\n",
       "      <td>1</td>\n",
       "      <td>4.110551</td>\n",
       "      <td>2.741758</td>\n",
       "      <td>5.106625</td>\n",
       "      <td>5.547063</td>\n",
       "      <td>4.978673</td>\n",
       "      <td>3.314734</td>\n",
       "    </tr>\n",
       "  </tbody>\n",
       "</table>\n",
       "<p>5 rows × 21 columns</p>\n",
       "</div>"
      ],
      "text/plain": [
       "             id                                               name    host_id  \\\n",
       "14664  27730191  Stylish, Artsy & Comfortable Stay Near the Ocean.   32215382   \n",
       "14665  29676417                     New York Moments (Ladies Only)  223248121   \n",
       "14666   1813829                Enjoy Harlem Renassiance Sunny Room    9501531   \n",
       "14667  25017403                                       Glamping Van   10407935   \n",
       "14668  19057073    Bright central designer's apt - steps to train!     538008   \n",
       "\n",
       "      host_name neighbourhood_group       neighbourhood  latitude  longitude  \\\n",
       "14664    Polina            Brooklyn      Sheepshead Bay  40.59446  -73.94289   \n",
       "14665     Julia           Manhattan            Kips Bay  40.74319  -73.98074   \n",
       "14666     Andre           Manhattan              Harlem  40.82519  -73.94530   \n",
       "14667      Meng           Manhattan              Nolita  40.72238  -73.99466   \n",
       "14668     Deren            Brooklyn  Bedford-Stuyvesant  40.68932  -73.94947   \n",
       "\n",
       "             room_type  minimum_nights  ...  last_review reviews_per_month  \\\n",
       "14664  Entire home/apt               2  ...   2019-05-20              0.59   \n",
       "14665      Shared room               2  ...   2019-01-01              0.16   \n",
       "14666     Private room               1  ...   2019-07-02              1.34   \n",
       "14667  Entire home/apt               1  ...   2019-05-27              1.12   \n",
       "14668  Entire home/apt               5  ...   2019-06-17              0.95   \n",
       "\n",
       "       calculated_host_listings_count  availability_365  \\\n",
       "14664                               1                36   \n",
       "14665                               1               365   \n",
       "14666                               3               358   \n",
       "14667                               8                34   \n",
       "14668                               1                 1   \n",
       "\n",
       "       Empire State Buillding  Brooklyn  Times Square  Centeral Park Zoo  \\\n",
       "14664               10.668447  8.216772     11.518011          12.072052   \n",
       "14665                1.208561  2.698760      1.053167           1.763590   \n",
       "14666                5.351786  8.660060      5.096441           4.200552   \n",
       "14667                2.603173  1.130940      2.507386           3.358626   \n",
       "14668                4.110551  2.741758      5.106625           5.547063   \n",
       "\n",
       "       Statue of Liberty  Wall Street  \n",
       "14664           8.439649     8.445727  \n",
       "14665           5.006482     2.959996  \n",
       "14666          10.734986     8.880386  \n",
       "14667           3.474235     1.352491  \n",
       "14668           4.978673     3.314734  \n",
       "\n",
       "[5 rows x 21 columns]"
      ]
     },
     "execution_count": 30,
     "metadata": {},
     "output_type": "execute_result"
    }
   ],
   "source": [
    "df['Empire State Buillding'] = d[0]\n",
    "df['Brooklyn'] = d[1]\n",
    "df['Times Square'] = d[2]\n",
    "df['Centeral Park Zoo'] = d[3]\n",
    "df['Statue of Liberty'] = d[4]\n",
    "df['Wall Street'] = d[5]\n",
    "df.tail()"
   ]
  },
  {
   "cell_type": "code",
   "execution_count": 31,
   "metadata": {},
   "outputs": [],
   "source": [
    "df.to_csv('Updated Test.csv')"
   ]
  },
  {
   "cell_type": "code",
   "execution_count": 32,
   "metadata": {},
   "outputs": [
    {
     "data": {
      "text/plain": [
       "Index(['id', 'name', 'host_id', 'host_name', 'neighbourhood_group',\n",
       "       'neighbourhood', 'latitude', 'longitude', 'room_type', 'minimum_nights',\n",
       "       'number_of_reviews', 'last_review', 'reviews_per_month',\n",
       "       'calculated_host_listings_count', 'availability_365',\n",
       "       'Empire State Buillding', 'Brooklyn', 'Times Square',\n",
       "       'Centeral Park Zoo', 'Statue of Liberty', 'Wall Street'],\n",
       "      dtype='object')"
      ]
     },
     "execution_count": 32,
     "metadata": {},
     "output_type": "execute_result"
    }
   ],
   "source": [
    "df.columns"
   ]
  },
  {
   "cell_type": "code",
   "execution_count": 25,
   "metadata": {},
   "outputs": [
    {
     "data": {
      "text/plain": [
       "Entire home/apt    17829\n",
       "Private room       15594\n",
       "Shared room          803\n",
       "Name: room_type, dtype: int64"
      ]
     },
     "execution_count": 25,
     "metadata": {},
     "output_type": "execute_result"
    }
   ],
   "source": [
    "df['room_type'].value_counts()"
   ]
  },
  {
   "cell_type": "code",
   "execution_count": 17,
   "metadata": {},
   "outputs": [
    {
     "ename": "KeyError",
     "evalue": "'Column not found: price'",
     "output_type": "error",
     "traceback": [
      "\u001b[1;31m---------------------------------------------------------------------------\u001b[0m",
      "\u001b[1;31mKeyError\u001b[0m                                  Traceback (most recent call last)",
      "\u001b[1;32m<ipython-input-17-28b7ff55eb10>\u001b[0m in \u001b[0;36m<module>\u001b[1;34m\u001b[0m\n\u001b[1;32m----> 1\u001b[1;33m \u001b[0mdf\u001b[0m\u001b[1;33m.\u001b[0m\u001b[0mgroupby\u001b[0m\u001b[1;33m(\u001b[0m\u001b[1;33m[\u001b[0m\u001b[1;34m'neighbourhood_group'\u001b[0m\u001b[1;33m,\u001b[0m\u001b[1;34m'room_type'\u001b[0m\u001b[1;33m]\u001b[0m\u001b[1;33m)\u001b[0m\u001b[1;33m[\u001b[0m\u001b[1;34m'price'\u001b[0m\u001b[1;33m]\u001b[0m\u001b[1;33m.\u001b[0m\u001b[0mmean\u001b[0m\u001b[1;33m(\u001b[0m\u001b[1;33m)\u001b[0m\u001b[1;33m\u001b[0m\u001b[0m\n\u001b[0m",
      "\u001b[1;32md:\\anaconda\\envs\\stayz\\lib\\site-packages\\pandas\\core\\groupby\\generic.py\u001b[0m in \u001b[0;36m__getitem__\u001b[1;34m(self, key)\u001b[0m\n\u001b[0;32m   1646\u001b[0m                 \u001b[0mstacklevel\u001b[0m\u001b[1;33m=\u001b[0m\u001b[1;36m2\u001b[0m\u001b[1;33m,\u001b[0m\u001b[1;33m\u001b[0m\u001b[0m\n\u001b[0;32m   1647\u001b[0m             )\n\u001b[1;32m-> 1648\u001b[1;33m         \u001b[1;32mreturn\u001b[0m \u001b[0msuper\u001b[0m\u001b[1;33m(\u001b[0m\u001b[1;33m)\u001b[0m\u001b[1;33m.\u001b[0m\u001b[0m__getitem__\u001b[0m\u001b[1;33m(\u001b[0m\u001b[0mkey\u001b[0m\u001b[1;33m)\u001b[0m\u001b[1;33m\u001b[0m\u001b[0m\n\u001b[0m\u001b[0;32m   1649\u001b[0m \u001b[1;33m\u001b[0m\u001b[0m\n\u001b[0;32m   1650\u001b[0m     \u001b[1;32mdef\u001b[0m \u001b[0m_gotitem\u001b[0m\u001b[1;33m(\u001b[0m\u001b[0mself\u001b[0m\u001b[1;33m,\u001b[0m \u001b[0mkey\u001b[0m\u001b[1;33m,\u001b[0m \u001b[0mndim\u001b[0m\u001b[1;33m:\u001b[0m \u001b[0mint\u001b[0m\u001b[1;33m,\u001b[0m \u001b[0msubset\u001b[0m\u001b[1;33m=\u001b[0m\u001b[1;32mNone\u001b[0m\u001b[1;33m)\u001b[0m\u001b[1;33m:\u001b[0m\u001b[1;33m\u001b[0m\u001b[0m\n",
      "\u001b[1;32md:\\anaconda\\envs\\stayz\\lib\\site-packages\\pandas\\core\\base.py\u001b[0m in \u001b[0;36m__getitem__\u001b[1;34m(self, key)\u001b[0m\n\u001b[0;32m    226\u001b[0m         \u001b[1;32melse\u001b[0m\u001b[1;33m:\u001b[0m\u001b[1;33m\u001b[0m\u001b[0m\n\u001b[0;32m    227\u001b[0m             \u001b[1;32mif\u001b[0m \u001b[0mkey\u001b[0m \u001b[1;32mnot\u001b[0m \u001b[1;32min\u001b[0m \u001b[0mself\u001b[0m\u001b[1;33m.\u001b[0m\u001b[0mobj\u001b[0m\u001b[1;33m:\u001b[0m\u001b[1;33m\u001b[0m\u001b[0m\n\u001b[1;32m--> 228\u001b[1;33m                 \u001b[1;32mraise\u001b[0m \u001b[0mKeyError\u001b[0m\u001b[1;33m(\u001b[0m\u001b[1;34mf\"Column not found: {key}\"\u001b[0m\u001b[1;33m)\u001b[0m\u001b[1;33m\u001b[0m\u001b[0m\n\u001b[0m\u001b[0;32m    229\u001b[0m             \u001b[1;32mreturn\u001b[0m \u001b[0mself\u001b[0m\u001b[1;33m.\u001b[0m\u001b[0m_gotitem\u001b[0m\u001b[1;33m(\u001b[0m\u001b[0mkey\u001b[0m\u001b[1;33m,\u001b[0m \u001b[0mndim\u001b[0m\u001b[1;33m=\u001b[0m\u001b[1;36m1\u001b[0m\u001b[1;33m)\u001b[0m\u001b[1;33m\u001b[0m\u001b[0m\n\u001b[0;32m    230\u001b[0m \u001b[1;33m\u001b[0m\u001b[0m\n",
      "\u001b[1;31mKeyError\u001b[0m: 'Column not found: price'"
     ]
    }
   ],
   "source": [
    "df.groupby(['neighbourhood_group','room_type'])['price'].mean()"
   ]
  },
  {
   "cell_type": "code",
   "execution_count": null,
   "metadata": {},
   "outputs": [],
   "source": [
    "a = df['host_id'].unique()\n",
    "len(a)"
   ]
  },
  {
   "cell_type": "code",
   "execution_count": 28,
   "metadata": {},
   "outputs": [
    {
     "data": {
      "text/plain": [
       "9291"
      ]
     },
     "execution_count": 28,
     "metadata": {},
     "output_type": "execute_result"
    }
   ],
   "source": [
    "b = df['host_name'].unique()\n",
    "len(b)"
   ]
  },
  {
   "cell_type": "code",
   "execution_count": 32,
   "metadata": {},
   "outputs": [
    {
     "ename": "IndexError",
     "evalue": "invalid index to scalar variable.",
     "output_type": "error",
     "traceback": [
      "\u001b[1;31m---------------------------------------------------------------------------\u001b[0m",
      "\u001b[1;31mIndexError\u001b[0m                                Traceback (most recent call last)",
      "\u001b[1;32m<ipython-input-32-d8e342f01c4f>\u001b[0m in \u001b[0;36m<module>\u001b[1;34m\u001b[0m\n\u001b[0;32m      1\u001b[0m \u001b[0mdf\u001b[0m\u001b[1;33m[\u001b[0m\u001b[1;34m'reviews_per_month'\u001b[0m\u001b[1;33m]\u001b[0m\u001b[1;33m.\u001b[0m\u001b[0mmax\u001b[0m\u001b[1;33m(\u001b[0m\u001b[1;33m)\u001b[0m \u001b[1;33m-\u001b[0m \u001b[0mdf\u001b[0m\u001b[1;33m[\u001b[0m\u001b[1;34m'reviews_per_month'\u001b[0m\u001b[1;33m]\u001b[0m\u001b[1;33m.\u001b[0m\u001b[0mmin\u001b[0m\u001b[1;33m(\u001b[0m\u001b[1;33m)\u001b[0m\u001b[1;33m\u001b[0m\u001b[1;33m\u001b[0m\u001b[0m\n\u001b[1;32m----> 2\u001b[1;33m \u001b[0mdf\u001b[0m\u001b[1;33m[\u001b[0m\u001b[1;34m'reviews_per_month'\u001b[0m\u001b[1;33m]\u001b[0m\u001b[1;33m.\u001b[0m\u001b[0mmax\u001b[0m\u001b[1;33m(\u001b[0m\u001b[1;33m)\u001b[0m\u001b[1;33m[\u001b[0m\u001b[1;34m'name'\u001b[0m\u001b[1;33m,\u001b[0m\u001b[1;34m'room_type'\u001b[0m\u001b[1;33m,\u001b[0m\u001b[1;34m'price'\u001b[0m\u001b[1;33m,\u001b[0m\u001b[1;34m'minimum_nights'\u001b[0m\u001b[1;33m]\u001b[0m\u001b[1;33m\u001b[0m\u001b[1;33m\u001b[0m\u001b[0m\n\u001b[0m",
      "\u001b[1;31mIndexError\u001b[0m: invalid index to scalar variable."
     ]
    }
   ],
   "source": [
    "df['reviews_per_month'].max() - df['reviews_per_month'].min()\n"
   ]
  },
  {
   "cell_type": "code",
   "execution_count": null,
   "metadata": {},
   "outputs": [],
   "source": []
  }
 ],
 "metadata": {
  "kernelspec": {
   "display_name": "Python 3",
   "language": "python",
   "name": "python3"
  },
  "language_info": {
   "codemirror_mode": {
    "name": "ipython",
    "version": 3
   },
   "file_extension": ".py",
   "mimetype": "text/x-python",
   "name": "python",
   "nbconvert_exporter": "python",
   "pygments_lexer": "ipython3",
   "version": "3.7.0"
  }
 },
 "nbformat": 4,
 "nbformat_minor": 4
}
